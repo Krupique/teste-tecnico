{
 "cells": [
  {
   "cell_type": "markdown",
   "metadata": {},
   "source": [
    "# Teste de Lógica"
   ]
  },
  {
   "cell_type": "markdown",
   "metadata": {},
   "source": [
    "## 1) Entrada de dados"
   ]
  },
  {
   "cell_type": "code",
   "execution_count": 1,
   "metadata": {},
   "outputs": [],
   "source": [
    "# abrindo arquivo\n",
    "f_input = []\n",
    "with open('input.txt', 'r') as fp:\n",
    "    f_input = fp.readlines()\n",
    "\n",
    "# Convertendo os dados de entrada para int\n",
    "input = []\n",
    "for num in f_input:\n",
    "    input.append(int(num.replace('\\n', '').replace(' ', '')))\n",
    "\n",
    "# Separando as entradas\n",
    "ttask = input[0]\n",
    "umax = input[1]\n",
    "input = input[2:]\n",
    "\n",
    "del f_input"
   ]
  },
  {
   "cell_type": "markdown",
   "metadata": {},
   "source": [
    "## Criação da Matriz de Servidores"
   ]
  },
  {
   "cell_type": "code",
   "execution_count": 2,
   "metadata": {},
   "outputs": [],
   "source": [
    "lista_servidores = []\n",
    "maior_array = 0\n",
    "\n",
    "# Criando uma lista de lista com os servidores ativos, onde:\n",
    "# 1 é o valor ativo\n",
    "# 0 é o valor inativo\n",
    "for i in range(len(input)):\n",
    "    for j in range(input[i]):\n",
    "            temp = [0 for k in range(i)]\n",
    "\n",
    "            temp.extend([1 for k in range(ttask)])\n",
    "\n",
    "            lista_servidores.append(temp)\n",
    "\n",
    "            if maior_array < len(temp):\n",
    "                maior_array = len(temp)\n",
    "        \n",
    "# Aqui eu vou preencher os valores restantes com 0 para formar uma matriz.\n",
    "for i in range(len(lista_servidores)):\n",
    "    temp = [0 for k in range(maior_array - len(lista_servidores[i]))]\n",
    "    lista_servidores[i].extend(temp)\n",
    "\n",
    "# Realizando a transposta da matriz\n",
    "lista_t = list(map(list, zip(*lista_servidores)))\n",
    "\n",
    "del lista_servidores, maior_array, temp, i, j, ttask"
   ]
  },
  {
   "cell_type": "markdown",
   "metadata": {},
   "source": [
    "## Calculo dos usuários ativos e também do custo total"
   ]
  },
  {
   "cell_type": "code",
   "execution_count": 186,
   "metadata": {},
   "outputs": [],
   "source": [
    "# Lista que armazena o resultado final de todos os usuários que ficaram ativos durante todo o período\n",
    "lista_resultado = []\n",
    "\n",
    "# Com base na quantidade de elementos de uma linha na matriz é possível calcular a quantidade de servidores ativos. \n",
    "qtd_servidores_ativos = int(round(len(lista_t[0]) / umax, 0))\n",
    "# Criando a lista de custo\n",
    "lista_custo = [0 for i in range(qtd_servidores_ativos)]\n",
    "\n",
    "# Percorrendo cada linha da matriz transposta\n",
    "for i in range(len(lista_t)):\n",
    "\n",
    "    resultado_linha = [] # Lista que armazena o resultando de quantos usuários estão ativos em cada linha\n",
    "    contador = 0 # Quantidade de usuários ativos em cada servidor\n",
    "    k = 0 # Iterador por servidor em cada linha\n",
    "    c = 0 # Iterador para calcular o custo\n",
    "    flag_c = True # Flag para confirmar se o servidor está ativo e já foi contado na soma do custo \n",
    "\n",
    "    # Percorrendo cada elemento da linha atual\n",
    "    for j in range(len(lista_t[i])):\n",
    "        if lista_t[i][j] == 1: # Se a célula atual for igual 1, então há usuário ativo\n",
    "            contador += 1\n",
    "            \n",
    "            if flag_c: # Se a flag for verdade, então a lista de custo recebe mais um\n",
    "                lista_custo[c] += 1\n",
    "                flag_c = False # Seta a flag como falso, porque a partir daqui o servidor atual já foi considerado na lista de custo \n",
    "        \n",
    "        if k < umax - 1: # Se k for menor umax - 1, então estamos no mesmo servidor \n",
    "            k += 1\n",
    "        else: # Se não, se trata de um novo servidor\n",
    "            if contador != 0: # Se o contador for diferente de zero, então armazena o resultado na lista de usuários ativos por linha \n",
    "                resultado_linha.append(contador)\n",
    "            contador, k = 0 # Zera o k e o contador porque vamos para outro servidor\n",
    "            c += 1\n",
    "            flag_c = True # Flag de custo recebe True para poder somar o custo do novo servidor.\n",
    "            \n",
    "    lista_resultado.append(resultado_linha) # Resultado final recebe o resultado da linha\n",
    "\n",
    "lista_resultado.extend([[sum(lista_custo)]]) # Armazena a soma total da lista de custo por servidores na lista de resultado final\n",
    "\n",
    "del qtd_servidores_ativos, lista_custo, lista_t, k, c, i, j, umax, contador, flag_c"
   ]
  },
  {
   "cell_type": "markdown",
   "metadata": {},
   "source": [
    "## Gravando resultado em um arquivo txt"
   ]
  },
  {
   "cell_type": "code",
   "execution_count": 187,
   "metadata": {},
   "outputs": [],
   "source": [
    "fn = \"output.txt\"\n",
    "mode = \"w\"\n",
    "with open(fn, mode) as fp:\n",
    "    for linha in lista_resultado:\n",
    "        s_linha = str(linha).replace('[', '').replace(']', '').replace(' ', '')\n",
    "\n",
    "        fp.write(f'{s_linha}\\n')"
   ]
  }
 ],
 "metadata": {
  "kernelspec": {
   "display_name": "Python 3.9.13 ('base')",
   "language": "python",
   "name": "python3"
  },
  "language_info": {
   "codemirror_mode": {
    "name": "ipython",
    "version": 3
   },
   "file_extension": ".py",
   "mimetype": "text/x-python",
   "name": "python",
   "nbconvert_exporter": "python",
   "pygments_lexer": "ipython3",
   "version": "3.9.13"
  },
  "orig_nbformat": 4,
  "vscode": {
   "interpreter": {
    "hash": "fa4d03cfce5ff746ab8860ac27b5cbb25e7a422a66142bc9266830a4a2a3dc77"
   }
  }
 },
 "nbformat": 4,
 "nbformat_minor": 2
}

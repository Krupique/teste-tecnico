{
 "cells": [
  {
   "cell_type": "code",
   "execution_count": 184,
   "metadata": {},
   "outputs": [],
   "source": [
    "f_input = []\n",
    "with open('input.txt', 'r') as fp:\n",
    "    f_input = fp.readlines()\n",
    "\n",
    "input = []\n",
    "for num in f_input:\n",
    "    input.append(int(num.replace('\\n', '').replace(' ', '')))\n",
    "\n",
    "\n",
    "ttask = input[0]\n",
    "umax = input[1]\n",
    "input = input[2:]\n",
    "\n",
    "del f_input"
   ]
  },
  {
   "cell_type": "code",
   "execution_count": 185,
   "metadata": {},
   "outputs": [],
   "source": [
    "lista_servidores = []\n",
    "maior_array = 0\n",
    "\n",
    "for i in range(len(input)):\n",
    "    for j in range(input[i]):\n",
    "            temp = [0 for k in range(i)]\n",
    "\n",
    "            temp.extend([1 for k in range(ttask)])\n",
    "\n",
    "            lista_servidores.append(temp)\n",
    "\n",
    "            if maior_array < len(temp):\n",
    "                maior_array = len(temp)\n",
    "        \n",
    "for i in range(len(lista_servidores)):\n",
    "    temp = [0 for k in range(maior_array - len(lista_servidores[i]))]\n",
    "    lista_servidores[i].extend(temp)\n",
    "\n",
    "lista_t = list(map(list, zip(*lista_servidores)))\n",
    "\n",
    "del lista_servidores, maior_array, temp, i, j, ttask"
   ]
  },
  {
   "cell_type": "code",
   "execution_count": 186,
   "metadata": {},
   "outputs": [],
   "source": [
    "lista_resultado = []\n",
    "\n",
    "qtd_servidores_ativos = int(round(len(lista_t[0]) / umax, 0))\n",
    "lista_custo = [0 for i in range(qtd_servidores_ativos)]\n",
    "\n",
    "\n",
    "for i in range(len(lista_t)):\n",
    "\n",
    "    resultado_linha = []\n",
    "    contador = 0\n",
    "    k = 0\n",
    "    c = 0\n",
    "    flag_c = True\n",
    "\n",
    "    for j in range(len(lista_t[i])):\n",
    "        if lista_t[i][j] == 1:\n",
    "            contador += 1\n",
    "            \n",
    "            if flag_c:\n",
    "                lista_custo[c] += 1\n",
    "                flag_c = False\n",
    "        \n",
    "        if k < umax - 1:\n",
    "            k += 1\n",
    "        else:\n",
    "            if contador != 0:\n",
    "                resultado_linha.append(contador)\n",
    "            k = 0\n",
    "            contador = 0\n",
    "            c += 1\n",
    "            flag_c = True\n",
    "            \n",
    "    lista_resultado.append(resultado_linha)\n",
    "\n",
    "lista_resultado.extend([[sum(lista_custo)]])\n",
    "\n",
    "del qtd_servidores_ativos, lista_custo, lista_t, k, c, i, j, umax, contador, flag_c"
   ]
  },
  {
   "cell_type": "code",
   "execution_count": 187,
   "metadata": {},
   "outputs": [],
   "source": [
    "fn = \"output.txt\"\n",
    "mode = \"w\"\n",
    "with open(fn, mode) as fp:\n",
    "    for linha in lista_resultado:\n",
    "        s_linha = str(linha).replace('[', '').replace(']', '').replace(' ', '')\n",
    "\n",
    "        fp.write(f'{s_linha}\\n')"
   ]
  }
 ],
 "metadata": {
  "kernelspec": {
   "display_name": "Python 3.9.13 ('base')",
   "language": "python",
   "name": "python3"
  },
  "language_info": {
   "codemirror_mode": {
    "name": "ipython",
    "version": 3
   },
   "file_extension": ".py",
   "mimetype": "text/x-python",
   "name": "python",
   "nbconvert_exporter": "python",
   "pygments_lexer": "ipython3",
   "version": "3.9.13"
  },
  "orig_nbformat": 4,
  "vscode": {
   "interpreter": {
    "hash": "fa4d03cfce5ff746ab8860ac27b5cbb25e7a422a66142bc9266830a4a2a3dc77"
   }
  }
 },
 "nbformat": 4,
 "nbformat_minor": 2
}

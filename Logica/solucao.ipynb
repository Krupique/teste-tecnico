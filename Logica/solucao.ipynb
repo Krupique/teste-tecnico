{
 "cells": [
  {
   "cell_type": "code",
   "execution_count": 30,
   "metadata": {},
   "outputs": [],
   "source": [
    "ttask = 4\n",
    "umax = 2\n",
    "input = [1, 3, 0, 1, 0, 1]"
   ]
  },
  {
   "cell_type": "code",
   "execution_count": 91,
   "metadata": {},
   "outputs": [],
   "source": [
    "usuarios_ativos = []\n",
    "ticks = []\n",
    "servidores_ativos = []\n",
    "\n",
    "for i in range(len(input)):\n",
    "\n",
    "    if len(ticks) == 0:\n",
    "        ticks.extend([input[i] for j in range(ttask)])\n",
    "    \n",
    "    else:\n",
    "\n",
    "        for j in range(ttask):\n",
    "            if i + j < len(ticks):\n",
    "                ticks[i + j] += input[i]\n",
    "            else:\n",
    "                ticks.append(input[i])\n",
    "            \n"
   ]
  },
  {
   "cell_type": "code",
   "execution_count": 117,
   "metadata": {},
   "outputs": [],
   "source": [
    "valor = 5\n",
    "servidores_ativos = []\n",
    "\n",
    "for valor in ticks:\n",
    "\n",
    "    if valor / umax < 1:\n",
    "        servidores_ativos.append([valor])\n",
    "    else:\n",
    "        div = valor // umax\n",
    "\n",
    "        temp = [umax for i in range(div)]\n",
    "        if valor % umax != 0:\n",
    "            temp.append(valor % umax)\n",
    "\n",
    "        servidores_ativos.append(temp)\n",
    "        "
   ]
  },
  {
   "cell_type": "markdown",
   "metadata": {},
   "source": [
    "---"
   ]
  },
  {
   "cell_type": "code",
   "execution_count": 154,
   "metadata": {},
   "outputs": [],
   "source": [
    "ttask = 4\n",
    "umax = 2\n",
    "input = [1, 3, 0, 1, 0, 1]"
   ]
  },
  {
   "cell_type": "code",
   "execution_count": 167,
   "metadata": {},
   "outputs": [
    {
     "name": "stdout",
     "output_type": "stream",
     "text": [
      "--- 1 ---\n",
      "--- 3 ---\n",
      "--- 0 ---\n",
      "--- 1 ---\n",
      "--- 0 ---\n",
      "--- 1 ---\n"
     ]
    }
   ],
   "source": [
    "lista_servidores = []\n",
    "\n",
    "for i in range(len(input)):\n",
    "    print(f'--- {input[i]} ---')\n",
    "    for j in range(input[i]):\n",
    "        temp = [0 for k in range(i)]\n",
    "\n",
    "        temp.extend([input[i] for k in range(ttask)])\n",
    "\n",
    "        lista_servidores.append(temp)\n",
    "        \n"
   ]
  },
  {
   "cell_type": "code",
   "execution_count": 170,
   "metadata": {},
   "outputs": [
    {
     "data": {
      "text/plain": [
       "[[1, 1, 1, 1],\n",
       " [0, 3, 3, 3, 3],\n",
       " [0, 3, 3, 3, 3],\n",
       " [0, 3, 3, 3, 3],\n",
       " [0, 0, 0, 1, 1, 1, 1],\n",
       " [0, 0, 0, 0, 0, 1, 1, 1, 1]]"
      ]
     },
     "execution_count": 170,
     "metadata": {},
     "output_type": "execute_result"
    }
   ],
   "source": [
    "lista_servidores\n"
   ]
  },
  {
   "cell_type": "code",
   "execution_count": null,
   "metadata": {},
   "outputs": [],
   "source": []
  }
 ],
 "metadata": {
  "kernelspec": {
   "display_name": "Python 3.9.13 ('base')",
   "language": "python",
   "name": "python3"
  },
  "language_info": {
   "codemirror_mode": {
    "name": "ipython",
    "version": 3
   },
   "file_extension": ".py",
   "mimetype": "text/x-python",
   "name": "python",
   "nbconvert_exporter": "python",
   "pygments_lexer": "ipython3",
   "version": "3.9.13"
  },
  "orig_nbformat": 4,
  "vscode": {
   "interpreter": {
    "hash": "fa4d03cfce5ff746ab8860ac27b5cbb25e7a422a66142bc9266830a4a2a3dc77"
   }
  }
 },
 "nbformat": 4,
 "nbformat_minor": 2
}
